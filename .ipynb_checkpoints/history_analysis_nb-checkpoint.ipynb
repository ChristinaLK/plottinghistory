{
 "metadata": {
  "name": "",
  "signature": "sha256:3b675d55bc931b5a5481051a130390bec4c1234e0417107e72e200d1db572f4a"
 },
 "nbformat": 3,
 "nbformat_minor": 0,
 "worksheets": [
  {
   "cells": [
    {
     "cell_type": "code",
     "collapsed": false,
     "input": [
      "infile = '2015_05_10.txt'\n",
      "outfile = '2015_04_10'\n",
      "\n",
      "input_file = open(infile,'r')\n",
      "output_file = open(outfile, 'w')\n",
      "\n",
      "for num,line in enumerate(input_file):\n",
      "    output_file.write(line.strip().split(' ')[2] + '\\r')\n",
      "    \n",
      "input_file.close()\n",
      "output_file.close()"
     ],
     "language": "python",
     "metadata": {},
     "outputs": [],
     "prompt_number": 13
    },
    {
     "cell_type": "code",
     "collapsed": false,
     "input": [],
     "language": "python",
     "metadata": {},
     "outputs": []
    }
   ],
   "metadata": {}
  }
 ]
}